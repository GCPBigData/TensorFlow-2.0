{
  "nbformat": 4,
  "nbformat_minor": 0,
  "metadata": {
    "colab": {
      "name": "EdwinSmith _MAMOGRAFIA",
      "provenance": [],
      "private_outputs": true,
      "collapsed_sections": [],
      "authorship_tag": "ABX9TyOR85opKDhF3aAFjQYsjQNL",
      "include_colab_link": true
    },
    "kernelspec": {
      "name": "python3",
      "display_name": "Python 3"
    }
  },
  "cells": [
    {
      "cell_type": "markdown",
      "metadata": {
        "id": "view-in-github",
        "colab_type": "text"
      },
      "source": [
        "<a href=\"https://colab.research.google.com/github/GCPBigData/TensorFlow-2.0/blob/master/curso/EdwinSmithMamografia.ipynb\" target=\"_parent\"><img src=\"https://colab.research.google.com/assets/colab-badge.svg\" alt=\"Open In Colab\"/></a>"
      ]
    },
    {
      "cell_type": "markdown",
      "metadata": {
        "id": "7HHJZDogUkXw",
        "colab_type": "text"
      },
      "source": [
        "### **Invasive Ductal Carcinoma Identification**\n",
        "Copyright 2018 The GooGolPlex Authors.\n",
        "Licensed under the Apache License, Version 2.0 (the \"License\");\n",
        "\n",
        "*   Data Scientist Jose R F Junior - web2ajax@gmail.com\n",
        "*   Project: Edwin Smith [Wikipedia](https://es.wikipedia.org/wiki/Papiro_Edwin_Smith)"
      ]
    },
    {
      "cell_type": "markdown",
      "metadata": {
        "id": "qGPJzAurj4nv",
        "colab_type": "text"
      },
      "source": [
        "Sobre Invasive Ductal Carcinoma Identification : [Artigo](https://www.linkedin.com/pulse/semantic-segmentation-jose-r-f-junior/)"
      ]
    },
    {
      "cell_type": "markdown",
      "metadata": {
        "id": "pDCBKTvC3KeN",
        "colab_type": "text"
      },
      "source": [
        "![alt text](https://pilarmanchon.es/wp-content/uploads/2016/09/mama-768x433.jpg)"
      ]
    },
    {
      "cell_type": "markdown",
      "metadata": {
        "id": "7ahHhR8OVFzr",
        "colab_type": "text"
      },
      "source": [
        "## Fluxo de trabalho:\n",
        "1. Examine e entenda os dados\n",
        "2. Construa um pipeline de entrada\n",
        "3. Construa o modelo\n",
        "4. Treine o modelo\n",
        "5. Teste o modelo\n",
        "6. Melhore o modelo e repita o processo"
      ]
    },
    {
      "cell_type": "markdown",
      "metadata": {
        "id": "u6nFuDjgzb2B",
        "colab_type": "text"
      },
      "source": [
        "INSTALANDO TENSORFLOW\n"
      ]
    },
    {
      "cell_type": "code",
      "metadata": {
        "id": "B_TcZ577-aX4",
        "colab_type": "code",
        "colab": {}
      },
      "source": [
        "from __future__ import absolute_import, division, print_function, unicode_literals"
      ],
      "execution_count": 0,
      "outputs": []
    },
    {
      "cell_type": "code",
      "metadata": {
        "id": "_-0uW606xJhg",
        "colab_type": "code",
        "colab": {}
      },
      "source": [
        "try:\n",
        "  # %tensorflow_version only exists in Colab.\n",
        "  %tensorflow_version 2.x\n",
        "except Exception:\n",
        "  pass\n",
        "import tensorflow as tf"
      ],
      "execution_count": 0,
      "outputs": []
    },
    {
      "cell_type": "code",
      "metadata": {
        "id": "xegEnjc3zlWQ",
        "colab_type": "code",
        "colab": {}
      },
      "source": [
        "from tensorflow.keras.models import Sequential\n",
        "from tensorflow.keras.layers import Dense, Conv2D, Flatten, Dropout, MaxPooling2D\n",
        "from tensorflow.keras.preprocessing.image import ImageDataGenerator\n",
        "\n",
        "import os\n",
        "import numpy as np\n",
        "import matplotlib.pyplot as plt"
      ],
      "execution_count": 0,
      "outputs": []
    },
    {
      "cell_type": "code",
      "metadata": {
        "id": "aSFJskNctP7Z",
        "colab_type": "code",
        "colab": {}
      },
      "source": [
        "!"
      ],
      "execution_count": 0,
      "outputs": []
    },
    {
      "cell_type": "markdown",
      "metadata": {
        "id": "aOco5cW2-8Pb",
        "colab_type": "text"
      },
      "source": [
        "GOOGGLE DRIVE MOUNT"
      ]
    },
    {
      "cell_type": "code",
      "metadata": {
        "id": "0tm5lmVw0NZu",
        "colab_type": "code",
        "colab": {}
      },
      "source": [
        "from google.colab import drive\n",
        "drive.mount('/content/drive')"
      ],
      "execution_count": 0,
      "outputs": []
    },
    {
      "cell_type": "markdown",
      "metadata": {
        "id": "TPa9QQ_P_BuW",
        "colab_type": "text"
      },
      "source": [
        "DOWNLOAD DOS DADOS"
      ]
    },
    {
      "cell_type": "code",
      "metadata": {
        "id": "UsgUfw6txcpf",
        "colab_type": "code",
        "colab": {}
      },
      "source": [
        "#%time !wget -c -r /content/drive/My Drive/IDC_regular_ps50_idx5.zip"
      ],
      "execution_count": 0,
      "outputs": []
    },
    {
      "cell_type": "code",
      "metadata": {
        "id": "TuNYMMmguWUM",
        "colab_type": "code",
        "colab": {}
      },
      "source": [
        "#%time !unzip /content/destino/IDC_regular_ps50_idx5.zip\n",
        "#%time !cp -avr /content/drive/'My Drive'/IDC_regular_ps50_idx5/validation/negativo /content/drive/'My Drive'/IDC_regular_ps50_idx5/train/"
      ],
      "execution_count": 0,
      "outputs": []
    },
    {
      "cell_type": "code",
      "metadata": {
        "id": "A_00fGVSsYnW",
        "colab_type": "code",
        "colab": {}
      },
      "source": [
        "import os\n",
        "import shutil\n",
        "os.chdir('/')\n",
        "pasta_inicial = 8863\n",
        "zero = '/0/'\n",
        "um = '/1/'\n",
        "# VAI COPIAR TODOS ARQUIVOS DA PASTA 0/1 \n",
        "# PARA A PASTA TRAIN -> POSITOV/NEGATIVO, PASTA VALIDATION --> POSITOV/NEGATIVO\n",
        "path_origem = '/'\n",
        "\n",
        "path_destino_train_postivo = '/content/drive/My Drive/IDC_regular_ps50_idx5/train/positivo/'\n",
        "path_destino_train_negativo = '/content/drive/My Drive/IDC_regular_ps50_idx5/train/negativo/'\n",
        "\n",
        "path_destino_validation_postivo = '/content/drive/My Drive/IDC_regular_ps50_idx5/validation/positivo/'\n",
        "path_destino_validation_negativo = '/content/drive/My Drive/IDC_regular_ps50_idx5/validation/negativo/'\n",
        "\n",
        "root_src_dir_train_positivo = (path_origem + str(pasta_inicial) + zero)\n",
        "root_target_dir_train_positivo = path_destino_train_postivo\n",
        "\n",
        "root_src_dir_train_negativo = (path_origem + str(pasta_inicial) + um)\n",
        "root_target_dir_train_negativo = path_destino_train_negativo\n",
        "\n",
        "root_src_dir_validation_positivo = (path_origem + str(pasta_inicial) + zero)\n",
        "root_target_dir_validation_positivo = path_destino_validation_postivo\n",
        "\n",
        "root_src_dir_validation_negativo = (path_origem + str(pasta_inicial) + um)\n",
        "root_target_dir_validation_negativo = path_destino_validation_negativo\n",
        "\n",
        "operation = 'copy'  # 'copy' or 'move'\n",
        "while pasta_inicial < 16896:\n",
        "    #train\n",
        "    for root_src_dir_train_positivo, dirs, files in os.walk(root_src_dir_train_positivo):\n",
        "        dst_dir = root_src_dir_train_positivo.replace(root_src_dir_train_positivo, root_target_dir_train_positivo)\n",
        "        for file_ in files:\n",
        "            src_file = os.path.join(root_src_dir_train_positivo, file_)\n",
        "            dst_file = os.path.join(dst_dir, file_)\n",
        "            if operation is 'copy':\n",
        "                shutil.copy(src_file, dst_dir)\n",
        "    for root_src_dir_train_negativo, dirs, files in os.walk(root_src_dir_train_negativo):\n",
        "        dst_dir = root_src_dir_train_negativo.replace(root_src_dir_train_negativo, root_target_dir_train_negativo)\n",
        "        for file_ in files:\n",
        "            src_file = os.path.join(root_src_dir_train_negativo, file_)\n",
        "            dst_file = os.path.join(dst_dir, file_)\n",
        "            if operation is 'copy':\n",
        "                shutil.copy(src_file, dst_dir)\n",
        "    #validation\n",
        "    for root_src_dir_validation_positivo, dirs, files in os.walk(root_src_dir_validation_positivo):\n",
        "        dst_dir = root_src_dir_validation_positivo.replace(root_src_dir_validation_positivo, root_target_dir_validation_positivo)\n",
        "        for file_ in files:\n",
        "            src_file = os.path.join(root_src_dir_validation_positivo, file_)\n",
        "            dst_file = os.path.join(dst_dir, file_)\n",
        "            if operation is 'copy':\n",
        "                shutil.copy(src_file, dst_dir)\n",
        "    for root_src_dir_validation_negativo, dirs, files in os.walk(root_src_dir_validation_negativo):\n",
        "        dst_dir = root_src_dir_validation_negativo.replace(root_src_dir_validation_negativo, root_target_dir_validation_negativo)\n",
        "        for file_ in files:\n",
        "            src_file = os.path.join(root_src_dir_validation_negativo, file_)\n",
        "            dst_file = os.path.join(dst_dir, file_)\n",
        "            if operation is 'copy':\n",
        "                shutil.copy(src_file, dst_dir)\n",
        "    print(\"COPIANDO ARQUIVO NUMERO:\",pasta_inicial, \" ATE --> 16896\") \n",
        "    pasta_inicial += 1            \n",
        "\n"
      ],
      "execution_count": 0,
      "outputs": []
    },
    {
      "cell_type": "markdown",
      "metadata": {
        "id": "cmH3BfxyKspt",
        "colab_type": "text"
      },
      "source": [
        "The dataset has the following directory structure:\n",
        "\n",
        "<pre>\n",
        "<b>IDC_regular_ps50_idx5</b>\n",
        "|__ <b>train</b>\n",
        "    |______ <b>negativo</b>: [mama.0.jpg, mama.1.jpg, mama.2.jpg ....]\n",
        "    |______ <b>positivo</b>: [mama.0.jpg, mama.1.jpg, mama.2.jpg ...]\n",
        "|__ <b>validation</b>\n",
        "    |______ <b>negativo</b>: [mama.2000.jpg, mama.2001.jpg, mama.2002.jpg ....]\n",
        "    |______ <b>positivo</b>: [mama.2000.jpg, mama.2001.jpg, mama.2002.jpg ...]\n",
        "</pre>"
      ]
    },
    {
      "cell_type": "markdown",
      "metadata": {
        "id": "msUovMIjBGXJ",
        "colab_type": "text"
      },
      "source": [
        "DIRETORISO ONDE VAI SER TREINADO E VALIDADO"
      ]
    },
    {
      "cell_type": "code",
      "metadata": {
        "id": "3PLMVOvlDJdB",
        "colab_type": "code",
        "colab": {}
      },
      "source": [
        "PATH = '/content/drive/My Drive/IDC_regular_ps50_idx5/'"
      ],
      "execution_count": 0,
      "outputs": []
    },
    {
      "cell_type": "code",
      "metadata": {
        "id": "rbWDrzFTBEOE",
        "colab_type": "code",
        "colab": {}
      },
      "source": [
        "train_dir = os.path.join(PATH, 'train/')\n",
        "validation_dir = os.path.join(PATH, 'validation/')"
      ],
      "execution_count": 0,
      "outputs": []
    },
    {
      "cell_type": "code",
      "metadata": {
        "id": "UVLJwXjYxcT2",
        "colab_type": "code",
        "colab": {}
      },
      "source": [
        "train_positivo_dir = os.path.join(train_dir, 'positivo')  # directory with our training POSITIVO pictures\n",
        "train_negativo_dir = os.path.join(train_dir, 'negativo')  # directory with our training NEGATIVO pictures\n",
        "validation_positivo_dir = os.path.join(validation_dir, 'positivo')  # directory with our validation POSITIVO pictures\n",
        "validation_negativo_dir = os.path.join(validation_dir, 'negativo')  # directory with our validation NEGATIVO pictures"
      ],
      "execution_count": 0,
      "outputs": []
    },
    {
      "cell_type": "markdown",
      "metadata": {
        "id": "QddGybYWCDMg",
        "colab_type": "text"
      },
      "source": [
        "ENTENDENDO OS DADOS"
      ]
    },
    {
      "cell_type": "code",
      "metadata": {
        "id": "CkSthCU2CIZS",
        "colab_type": "code",
        "colab": {}
      },
      "source": [
        "num_positivo_tr = len(os.listdir(train_positivo_dir))\n",
        "num_negativo_tr = len(os.listdir(train_negativo_dir))\n",
        "\n",
        "num_positivo_val = len(os.listdir(validation_positivo_dir))\n",
        "num_negativo_val = len(os.listdir(validation_negativo_dir))\n",
        "\n",
        "total_train = num_positivo_tr + num_negativo_tr\n",
        "total_val = num_positivo_val + num_negativo_val"
      ],
      "execution_count": 0,
      "outputs": []
    },
    {
      "cell_type": "code",
      "metadata": {
        "id": "RlC9lROPHHo4",
        "colab_type": "code",
        "colab": {}
      },
      "source": [
        "print('total treino positivo imagens:', num_positivo_tr)\n",
        "print('total treino negativo imagens:', num_negativo_tr)\n",
        "\n",
        "print('total treino positivo imagens:', num_positivo_tr)\n",
        "print('total validacao negativa imagens:', num_negativo_tr)\n",
        "print(\"--\")\n",
        "print(\"Total treino imagens:\", total_train)\n",
        "print(\"Total validacao imagens:\", total_val)"
      ],
      "execution_count": 0,
      "outputs": []
    },
    {
      "cell_type": "code",
      "metadata": {
        "id": "lutoIAgHoN_z",
        "colab_type": "code",
        "colab": {}
      },
      "source": [
        "## DEFINICOES DE VARIAVEIS GLOABIS\n",
        "batch_size = 128 #TAMANHO DO BATCH\n",
        "epochs = 15 #QUANTIDADE DE EPOCAS QUE A REDE VAI TREINAR\n",
        "IMG_HEIGHT = 150 #ALTURA DA IMAGEM\n",
        "IMG_WIDTH = 150 #LARGURA DA IMAGEM"
      ],
      "execution_count": 0,
      "outputs": []
    },
    {
      "cell_type": "markdown",
      "metadata": {
        "id": "yvgYStPVMCui",
        "colab_type": "text"
      },
      "source": [
        "##Preparação de dados"
      ]
    },
    {
      "cell_type": "code",
      "metadata": {
        "id": "5QNfXnA9MMDn",
        "colab_type": "code",
        "colab": {}
      },
      "source": [
        "train_image_generator = ImageDataGenerator(rescale=1./255) # Gerador para nossos dados de treinamento\n",
        "validation_image_generator = ImageDataGenerator(rescale=1./255) # Gerador para nossos dados de validação"
      ],
      "execution_count": 0,
      "outputs": []
    },
    {
      "cell_type": "code",
      "metadata": {
        "id": "4jwPr8b7MR0E",
        "colab_type": "code",
        "colab": {}
      },
      "source": [
        "train_data_gen = train_image_generator.flow_from_directory(batch_size=batch_size,\n",
        "                                                           directory=train_dir,\n",
        "                                                           shuffle=True,\n",
        "                                                           target_size=(IMG_HEIGHT, IMG_WIDTH),\n",
        "                                                           class_mode='binary')"
      ],
      "execution_count": 0,
      "outputs": []
    },
    {
      "cell_type": "code",
      "metadata": {
        "id": "_l8tmEmIMaT1",
        "colab_type": "code",
        "colab": {}
      },
      "source": [
        "val_data_gen = validation_image_generator.flow_from_directory(batch_size=batch_size,\n",
        "                                                              directory=validation_dir,\n",
        "                                                              target_size=(IMG_HEIGHT, IMG_WIDTH),\n",
        "                                                              class_mode='binary')"
      ],
      "execution_count": 0,
      "outputs": []
    },
    {
      "cell_type": "markdown",
      "metadata": {
        "id": "X9dQidB3MlRa",
        "colab_type": "text"
      },
      "source": [
        "## Visualize imagens de treinamento"
      ]
    },
    {
      "cell_type": "code",
      "metadata": {
        "id": "VZ53CtsSMgw2",
        "colab_type": "code",
        "colab": {}
      },
      "source": [
        "sample_training_images, _ = next(train_data_gen)"
      ],
      "execution_count": 0,
      "outputs": []
    },
    {
      "cell_type": "code",
      "metadata": {
        "colab_type": "code",
        "id": "iU-yaPtQp4Zm",
        "colab": {}
      },
      "source": [
        "# Plotar 10 imagens 10x10\n",
        "def plotImages(images_arr):\n",
        "    fig, axes = plt.subplots(1, 10, figsize=(10,10))\n",
        "    axes = axes.flatten()\n",
        "    for img, ax in zip( images_arr, axes):\n",
        "        ax.imshow(img)\n",
        "        ax.axis('off')\n",
        "    plt.tight_layout()\n",
        "    plt.show()"
      ],
      "execution_count": 0,
      "outputs": []
    },
    {
      "cell_type": "code",
      "metadata": {
        "id": "0pCc5Kl2M4Qs",
        "colab_type": "code",
        "colab": {}
      },
      "source": [
        "plotImages(sample_training_images[:10])"
      ],
      "execution_count": 0,
      "outputs": []
    },
    {
      "cell_type": "code",
      "metadata": {
        "id": "Yen-asSmrGXM",
        "colab_type": "code",
        "colab": {}
      },
      "source": [
        "#Plotar 5 imagens 20x20\n",
        "def plotImages(images_arr):\n",
        "    fig, axes = plt.subplots(1, 5, figsize=(20,20))\n",
        "    axes = axes.flatten()\n",
        "    for img, ax in zip( images_arr, axes):\n",
        "        ax.imshow(img)\n",
        "        ax.axis('off')\n",
        "    plt.tight_layout()\n",
        "    plt.show()"
      ],
      "execution_count": 0,
      "outputs": []
    },
    {
      "cell_type": "code",
      "metadata": {
        "id": "FqIakqlKrNyy",
        "colab_type": "code",
        "colab": {}
      },
      "source": [
        "plotImages(sample_training_images[:5])"
      ],
      "execution_count": 0,
      "outputs": []
    },
    {
      "cell_type": "markdown",
      "metadata": {
        "id": "852s5FfoNDQY",
        "colab_type": "text"
      },
      "source": [
        "## Criar o Modelo"
      ]
    },
    {
      "cell_type": "code",
      "metadata": {
        "id": "5ACHc8bFM8Yf",
        "colab_type": "code",
        "colab": {}
      },
      "source": [
        "model = Sequential([\n",
        "    Conv2D(16, 3, padding='same', activation='relu', input_shape=(IMG_HEIGHT, IMG_WIDTH ,3)),\n",
        "    MaxPooling2D(),\n",
        "    Conv2D(32, 3, padding='same', activation='relu'),\n",
        "    MaxPooling2D(),\n",
        "    Conv2D(64, 3, padding='same', activation='relu'),\n",
        "    MaxPooling2D(),\n",
        "    Flatten(),\n",
        "    Dense(512, activation='relu'),\n",
        "    Dense(1, activation='sigmoid')\n",
        "])"
      ],
      "execution_count": 0,
      "outputs": []
    },
    {
      "cell_type": "markdown",
      "metadata": {
        "id": "IpOS6sIDNYHK",
        "colab_type": "text"
      },
      "source": [
        "##Compila o Modelo\n"
      ]
    },
    {
      "cell_type": "code",
      "metadata": {
        "id": "cndr9O4KNV2_",
        "colab_type": "code",
        "colab": {}
      },
      "source": [
        "model.compile(optimizer='adam',\n",
        "              loss='binary_crossentropy',\n",
        "              metrics=['accuracy'])"
      ],
      "execution_count": 0,
      "outputs": []
    },
    {
      "cell_type": "markdown",
      "metadata": {
        "id": "fcadMZA4NrLG",
        "colab_type": "text"
      },
      "source": [
        "##Sumario do Modelo"
      ]
    },
    {
      "cell_type": "code",
      "metadata": {
        "id": "8ESDT7Y_Nt7n",
        "colab_type": "code",
        "colab": {}
      },
      "source": [
        "model.summary()"
      ],
      "execution_count": 0,
      "outputs": []
    },
    {
      "cell_type": "markdown",
      "metadata": {
        "id": "ZRzixmaYOEPq",
        "colab_type": "text"
      },
      "source": [
        "##Treina o Modelo"
      ]
    },
    {
      "cell_type": "code",
      "metadata": {
        "id": "4XGB72rQOG2p",
        "colab_type": "code",
        "colab": {}
      },
      "source": [
        "history = model.fit_generator(\n",
        "    train_data_gen,\n",
        "    steps_per_epoch=total_train // batch_size,\n",
        "    epochs=epochs,\n",
        "    validation_data=val_data_gen,\n",
        "    validation_steps=total_val // batch_size\n",
        ")"
      ],
      "execution_count": 0,
      "outputs": []
    },
    {
      "cell_type": "markdown",
      "metadata": {
        "id": "9khO1yUjOQ28",
        "colab_type": "text"
      },
      "source": [
        "##Visualiza o Resultado do Treino"
      ]
    },
    {
      "cell_type": "code",
      "metadata": {
        "id": "XQQhueklOV1B",
        "colab_type": "code",
        "colab": {}
      },
      "source": [
        "acc = history.history['accuracy']\n",
        "val_acc = history.history['val_accuracy']\n",
        "\n",
        "loss = history.history['loss']\n",
        "val_loss = history.history['val_loss']\n",
        "\n",
        "epochs_range = range(epochs)\n",
        "\n",
        "plt.figure(figsize=(20, 8))\n",
        "plt.subplot(1, 2, 1)\n",
        "plt.plot(epochs_range, acc, label='Training Accuracy')\n",
        "plt.plot(epochs_range, val_acc, label='Validation Accuracy')\n",
        "plt.legend(loc='lower right')\n",
        "plt.title('Training and Validation Accuracy')\n",
        "\n",
        "plt.subplot(1, 2, 2)\n",
        "plt.plot(epochs_range, loss, label='Training Loss')\n",
        "plt.plot(epochs_range, val_loss, label='Validation Loss')\n",
        "plt.legend(loc='upper right')\n",
        "plt.title('Training and Validation Loss')\n",
        "plt.show()"
      ],
      "execution_count": 0,
      "outputs": []
    },
    {
      "cell_type": "markdown",
      "metadata": {
        "id": "CRhvr-PoOk47",
        "colab_type": "text"
      },
      "source": [
        "##Aplicar rotação horizontal"
      ]
    },
    {
      "cell_type": "code",
      "metadata": {
        "id": "VTwMxUdXOu2d",
        "colab_type": "code",
        "colab": {}
      },
      "source": [
        "image_gen = ImageDataGenerator(rescale=1./255, horizontal_flip=True)"
      ],
      "execution_count": 0,
      "outputs": []
    },
    {
      "cell_type": "code",
      "metadata": {
        "id": "zSL5pRyDOwaZ",
        "colab_type": "code",
        "colab": {}
      },
      "source": [
        "train_data_gen = image_gen.flow_from_directory(batch_size=batch_size,\n",
        "                                               directory=train_dir,\n",
        "                                               shuffle=True,\n",
        "                                               target_size=(IMG_HEIGHT, IMG_WIDTH))"
      ],
      "execution_count": 0,
      "outputs": []
    },
    {
      "cell_type": "code",
      "metadata": {
        "id": "P73RwMQ5O3pC",
        "colab_type": "code",
        "colab": {}
      },
      "source": [
        "augmented_images = [train_data_gen[0][0][0] for i in range(5)]"
      ],
      "execution_count": 0,
      "outputs": []
    },
    {
      "cell_type": "code",
      "metadata": {
        "id": "_0nylq0OPBTM",
        "colab_type": "code",
        "colab": {}
      },
      "source": [
        "# Reutilize a mesma função de plotagem personalizada definida e usada acima para visualizar as imagens de treinamento\n",
        "plotImages(augmented_images)"
      ],
      "execution_count": 0,
      "outputs": []
    },
    {
      "cell_type": "markdown",
      "metadata": {
        "id": "OBtV0IoyPPEo",
        "colab_type": "text"
      },
      "source": [
        "## Gire a imagem aleatoriamente"
      ]
    },
    {
      "cell_type": "code",
      "metadata": {
        "id": "oKgQBb5zPMNF",
        "colab_type": "code",
        "colab": {}
      },
      "source": [
        "image_gen = ImageDataGenerator(rescale=1./255, rotation_range=45)"
      ],
      "execution_count": 0,
      "outputs": []
    },
    {
      "cell_type": "code",
      "metadata": {
        "id": "FGsEmZWfPU5q",
        "colab_type": "code",
        "colab": {}
      },
      "source": [
        "train_data_gen = image_gen.flow_from_directory(batch_size=batch_size,\n",
        "                                               directory=train_dir,\n",
        "                                               shuffle=True,\n",
        "                                               target_size=(IMG_HEIGHT, IMG_WIDTH))\n",
        "\n",
        "augmented_images = [train_data_gen[0][0][0] for i in range(5)]"
      ],
      "execution_count": 0,
      "outputs": []
    },
    {
      "cell_type": "code",
      "metadata": {
        "id": "a5UeqJgjPmPu",
        "colab_type": "code",
        "colab": {}
      },
      "source": [
        "plotImages(augmented_images)"
      ],
      "execution_count": 0,
      "outputs": []
    },
    {
      "cell_type": "markdown",
      "metadata": {
        "id": "C_r5nY6HP-iw",
        "colab_type": "text"
      },
      "source": [
        "## Aplicar aumento de zoom"
      ]
    },
    {
      "cell_type": "code",
      "metadata": {
        "id": "nqpNoILsQAJ8",
        "colab_type": "code",
        "colab": {}
      },
      "source": [
        "# zoom_range de 0 - 1 quando 1 = 100%.\n",
        "image_gen = ImageDataGenerator(rescale=1./255, zoom_range=0.5) # "
      ],
      "execution_count": 0,
      "outputs": []
    },
    {
      "cell_type": "code",
      "metadata": {
        "id": "2h4QIMA7QGP7",
        "colab_type": "code",
        "colab": {}
      },
      "source": [
        "train_data_gen = image_gen.flow_from_directory(batch_size=batch_size,\n",
        "                                               directory=train_dir,\n",
        "                                               shuffle=True,\n",
        "                                               target_size=(IMG_HEIGHT, IMG_WIDTH))\n",
        "\n",
        "augmented_images = [train_data_gen[0][0][0] for i in range(5)]"
      ],
      "execution_count": 0,
      "outputs": []
    },
    {
      "cell_type": "code",
      "metadata": {
        "id": "Gow6dNYZQHuq",
        "colab_type": "code",
        "colab": {}
      },
      "source": [
        "plotImages(augmented_images)"
      ],
      "execution_count": 0,
      "outputs": []
    },
    {
      "cell_type": "markdown",
      "metadata": {
        "id": "fkbkT-qfQMTg",
        "colab_type": "text"
      },
      "source": [
        "##Coloca tudo junto"
      ]
    },
    {
      "cell_type": "code",
      "metadata": {
        "id": "iSF8pZTtQRCH",
        "colab_type": "code",
        "colab": {}
      },
      "source": [
        "image_gen_train = ImageDataGenerator(\n",
        "                    rescale=1./255,\n",
        "                    rotation_range=45,\n",
        "                    width_shift_range=.15,\n",
        "                    height_shift_range=.15,\n",
        "                    horizontal_flip=True,\n",
        "                    zoom_range=0.5\n",
        "                    )"
      ],
      "execution_count": 0,
      "outputs": []
    },
    {
      "cell_type": "code",
      "metadata": {
        "id": "Jdb4KBeCQR3B",
        "colab_type": "code",
        "colab": {}
      },
      "source": [
        "train_data_gen = image_gen_train.flow_from_directory(batch_size=batch_size,\n",
        "                                                     directory=train_dir,\n",
        "                                                     shuffle=True,\n",
        "                                                     target_size=(IMG_HEIGHT, IMG_WIDTH),\n",
        "                                                     class_mode='binary')"
      ],
      "execution_count": 0,
      "outputs": []
    },
    {
      "cell_type": "code",
      "metadata": {
        "id": "N2IilRujQXWx",
        "colab_type": "code",
        "colab": {}
      },
      "source": [
        "augmented_images = [train_data_gen[0][0][0] for i in range(5)]\n",
        "plotImages(augmented_images)"
      ],
      "execution_count": 0,
      "outputs": []
    },
    {
      "cell_type": "code",
      "metadata": {
        "id": "UA8O4cRFQYeQ",
        "colab_type": "code",
        "colab": {}
      },
      "source": [
        "image_gen_val = ImageDataGenerator(rescale=1./255)"
      ],
      "execution_count": 0,
      "outputs": []
    },
    {
      "cell_type": "code",
      "metadata": {
        "id": "Kul2EsqLQc_A",
        "colab_type": "code",
        "colab": {}
      },
      "source": [
        "val_data_gen = image_gen_val.flow_from_directory(batch_size=batch_size,\n",
        "                                                 directory=validation_dir,\n",
        "                                                 target_size=(IMG_HEIGHT, IMG_WIDTH),\n",
        "                                                 class_mode='binary')"
      ],
      "execution_count": 0,
      "outputs": []
    },
    {
      "cell_type": "markdown",
      "metadata": {
        "id": "xapFy-mAQksB",
        "colab_type": "text"
      },
      "source": [
        "## Dropout -  Criando uma nova rede com Dropouts"
      ]
    },
    {
      "cell_type": "code",
      "metadata": {
        "id": "evO0GDvVQeD5",
        "colab_type": "code",
        "colab": {}
      },
      "source": [
        "model_new = Sequential([\n",
        "    Conv2D(16, 3, padding='same', activation='relu', \n",
        "           input_shape=(IMG_HEIGHT, IMG_WIDTH ,3)),\n",
        "    MaxPooling2D(),\n",
        "    Dropout(0.2),\n",
        "    Conv2D(32, 3, padding='same', activation='relu'),\n",
        "    MaxPooling2D(),\n",
        "    Conv2D(64, 3, padding='same', activation='relu'),\n",
        "    MaxPooling2D(),\n",
        "    Dropout(0.2),\n",
        "    Flatten(),\n",
        "    Dense(512, activation='relu'),\n",
        "    Dense(1, activation='sigmoid')\n",
        "])"
      ],
      "execution_count": 0,
      "outputs": []
    },
    {
      "cell_type": "markdown",
      "metadata": {
        "id": "2TBR1FaLQ4mg",
        "colab_type": "text"
      },
      "source": [
        "##Compilar o modelo"
      ]
    },
    {
      "cell_type": "code",
      "metadata": {
        "id": "yLOmS7-oQ775",
        "colab_type": "code",
        "colab": {}
      },
      "source": [
        "model_new.compile(optimizer='adam',\n",
        "              loss='binary_crossentropy',\n",
        "              metrics=['accuracy'])\n",
        "\n",
        "model_new.summary()"
      ],
      "execution_count": 0,
      "outputs": []
    },
    {
      "cell_type": "markdown",
      "metadata": {
        "id": "GjpOz75cRBxe",
        "colab_type": "text"
      },
      "source": [
        "## Treina o modelo"
      ]
    },
    {
      "cell_type": "code",
      "metadata": {
        "id": "zn7UlpeYPwvd",
        "colab_type": "code",
        "colab": {}
      },
      "source": [
        "history = model_new.fit_generator(\n",
        "    train_data_gen,\n",
        "    steps_per_epoch=total_train // batch_size,\n",
        "    epochs=epochs,\n",
        "    validation_data=val_data_gen,\n",
        "    validation_steps=total_val // batch_size\n",
        ")"
      ],
      "execution_count": 0,
      "outputs": []
    },
    {
      "cell_type": "markdown",
      "metadata": {
        "id": "T0oqFgC5RVZZ",
        "colab_type": "text"
      },
      "source": [
        "##Visualize the model"
      ]
    },
    {
      "cell_type": "code",
      "metadata": {
        "id": "rN2a3F53RXx4",
        "colab_type": "code",
        "colab": {}
      },
      "source": [
        "acc = history.history['accuracy']\n",
        "val_acc = history.history['val_accuracy']\n",
        "\n",
        "loss = history.history['loss']\n",
        "val_loss = history.history['val_loss']\n",
        "\n",
        "epochs_range = range(epochs)\n",
        "\n",
        "plt.figure(figsize=(20, 8))\n",
        "plt.subplot(1, 2, 1)\n",
        "plt.plot(epochs_range, acc, label='Training Accuracy')\n",
        "plt.plot(epochs_range, val_acc, label='Validation Accuracy')\n",
        "plt.legend(loc='lower right')\n",
        "plt.title('Training and Validation Accuracy')\n",
        "\n",
        "plt.subplot(1, 2, 2)\n",
        "plt.plot(epochs_range, loss, label='Training Loss')\n",
        "plt.plot(epochs_range, val_loss, label='Validation Loss')\n",
        "plt.legend(loc='upper right')\n",
        "plt.title('Training and Validation Loss')\n",
        "plt.show()"
      ],
      "execution_count": 0,
      "outputs": []
    }
  ]
}